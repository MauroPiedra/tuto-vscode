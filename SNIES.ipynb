{
  "nbformat": 4,
  "nbformat_minor": 0,
  "metadata": {
    "colab": {
      "provenance": [],
      "authorship_tag": "ABX9TyN4rFL5e97unZ734hyfAw8p",
      "include_colab_link": true
    },
    "kernelspec": {
      "name": "python3",
      "display_name": "Python 3"
    },
    "language_info": {
      "name": "python"
    }
  },
  "cells": [
    {
      "cell_type": "markdown",
      "metadata": {
        "id": "view-in-github",
        "colab_type": "text"
      },
      "source": [
        "<a href=\"https://colab.research.google.com/github/MauroPiedra/tuto-vscode/blob/main/SNIES.ipynb\" target=\"_parent\"><img src=\"https://colab.research.google.com/assets/colab-badge.svg\" alt=\"Open In Colab\"/></a>"
      ]
    },
    {
      "cell_type": "code",
      "execution_count": 1,
      "metadata": {
        "id": "uQGNhOz58LGw"
      },
      "outputs": [],
      "source": [
        "import pandas as pd"
      ]
    },
    {
      "cell_type": "code",
      "source": [
        "from google.colab import drive\n",
        "drive.mount('/content/drive')"
      ],
      "metadata": {
        "colab": {
          "base_uri": "https://localhost:8080/"
        },
        "id": "4UgfoNz98fnu",
        "outputId": "bbf7dd2f-0fda-420c-d44a-a24d9871a540"
      },
      "execution_count": 2,
      "outputs": [
        {
          "output_type": "stream",
          "name": "stdout",
          "text": [
            "Mounted at /content/drive\n"
          ]
        }
      ]
    },
    {
      "cell_type": "code",
      "source": [
        "archivo_excel = '/content/SNIES_PROGRAMAS.xlsx'\n",
        "df = pd.read_excel(archivo_excel)\n",
        "df.head()"
      ],
      "metadata": {
        "colab": {
          "base_uri": "https://localhost:8080/",
          "height": 206
        },
        "id": "X7gkg6Jr8pMe",
        "outputId": "9dfe952e-dc81-44ae-8cae-1090dd8a1fa2"
      },
      "execution_count": 6,
      "outputs": [
        {
          "output_type": "execute_result",
          "data": {
            "text/plain": [
              "   CÓDIGO_INSTITUCIÓN  SNIES_PROGRAMA    NOMBRE_DEL_PROGRAMA\n",
              "0                1101               1  INGENIERIA AGRONOMICA\n",
              "1                1101               2   MEDICINA VETERINARIA\n",
              "2                1101               3              ZOOTECNIA\n",
              "3                1101               4         DISEÑO GRAFICO\n",
              "4                1101               5      DISEÑO INDUSTRIAL"
            ],
            "text/html": [
              "\n",
              "  <div id=\"df-77f57f73-446e-4e99-b725-492dd741002a\" class=\"colab-df-container\">\n",
              "    <div>\n",
              "<style scoped>\n",
              "    .dataframe tbody tr th:only-of-type {\n",
              "        vertical-align: middle;\n",
              "    }\n",
              "\n",
              "    .dataframe tbody tr th {\n",
              "        vertical-align: top;\n",
              "    }\n",
              "\n",
              "    .dataframe thead th {\n",
              "        text-align: right;\n",
              "    }\n",
              "</style>\n",
              "<table border=\"1\" class=\"dataframe\">\n",
              "  <thead>\n",
              "    <tr style=\"text-align: right;\">\n",
              "      <th></th>\n",
              "      <th>CÓDIGO_INSTITUCIÓN</th>\n",
              "      <th>SNIES_PROGRAMA</th>\n",
              "      <th>NOMBRE_DEL_PROGRAMA</th>\n",
              "    </tr>\n",
              "  </thead>\n",
              "  <tbody>\n",
              "    <tr>\n",
              "      <th>0</th>\n",
              "      <td>1101</td>\n",
              "      <td>1</td>\n",
              "      <td>INGENIERIA AGRONOMICA</td>\n",
              "    </tr>\n",
              "    <tr>\n",
              "      <th>1</th>\n",
              "      <td>1101</td>\n",
              "      <td>2</td>\n",
              "      <td>MEDICINA VETERINARIA</td>\n",
              "    </tr>\n",
              "    <tr>\n",
              "      <th>2</th>\n",
              "      <td>1101</td>\n",
              "      <td>3</td>\n",
              "      <td>ZOOTECNIA</td>\n",
              "    </tr>\n",
              "    <tr>\n",
              "      <th>3</th>\n",
              "      <td>1101</td>\n",
              "      <td>4</td>\n",
              "      <td>DISEÑO GRAFICO</td>\n",
              "    </tr>\n",
              "    <tr>\n",
              "      <th>4</th>\n",
              "      <td>1101</td>\n",
              "      <td>5</td>\n",
              "      <td>DISEÑO INDUSTRIAL</td>\n",
              "    </tr>\n",
              "  </tbody>\n",
              "</table>\n",
              "</div>\n",
              "    <div class=\"colab-df-buttons\">\n",
              "\n",
              "  <div class=\"colab-df-container\">\n",
              "    <button class=\"colab-df-convert\" onclick=\"convertToInteractive('df-77f57f73-446e-4e99-b725-492dd741002a')\"\n",
              "            title=\"Convert this dataframe to an interactive table.\"\n",
              "            style=\"display:none;\">\n",
              "\n",
              "  <svg xmlns=\"http://www.w3.org/2000/svg\" height=\"24px\" viewBox=\"0 -960 960 960\">\n",
              "    <path d=\"M120-120v-720h720v720H120Zm60-500h600v-160H180v160Zm220 220h160v-160H400v160Zm0 220h160v-160H400v160ZM180-400h160v-160H180v160Zm440 0h160v-160H620v160ZM180-180h160v-160H180v160Zm440 0h160v-160H620v160Z\"/>\n",
              "  </svg>\n",
              "    </button>\n",
              "\n",
              "  <style>\n",
              "    .colab-df-container {\n",
              "      display:flex;\n",
              "      gap: 12px;\n",
              "    }\n",
              "\n",
              "    .colab-df-convert {\n",
              "      background-color: #E8F0FE;\n",
              "      border: none;\n",
              "      border-radius: 50%;\n",
              "      cursor: pointer;\n",
              "      display: none;\n",
              "      fill: #1967D2;\n",
              "      height: 32px;\n",
              "      padding: 0 0 0 0;\n",
              "      width: 32px;\n",
              "    }\n",
              "\n",
              "    .colab-df-convert:hover {\n",
              "      background-color: #E2EBFA;\n",
              "      box-shadow: 0px 1px 2px rgba(60, 64, 67, 0.3), 0px 1px 3px 1px rgba(60, 64, 67, 0.15);\n",
              "      fill: #174EA6;\n",
              "    }\n",
              "\n",
              "    .colab-df-buttons div {\n",
              "      margin-bottom: 4px;\n",
              "    }\n",
              "\n",
              "    [theme=dark] .colab-df-convert {\n",
              "      background-color: #3B4455;\n",
              "      fill: #D2E3FC;\n",
              "    }\n",
              "\n",
              "    [theme=dark] .colab-df-convert:hover {\n",
              "      background-color: #434B5C;\n",
              "      box-shadow: 0px 1px 3px 1px rgba(0, 0, 0, 0.15);\n",
              "      filter: drop-shadow(0px 1px 2px rgba(0, 0, 0, 0.3));\n",
              "      fill: #FFFFFF;\n",
              "    }\n",
              "  </style>\n",
              "\n",
              "    <script>\n",
              "      const buttonEl =\n",
              "        document.querySelector('#df-77f57f73-446e-4e99-b725-492dd741002a button.colab-df-convert');\n",
              "      buttonEl.style.display =\n",
              "        google.colab.kernel.accessAllowed ? 'block' : 'none';\n",
              "\n",
              "      async function convertToInteractive(key) {\n",
              "        const element = document.querySelector('#df-77f57f73-446e-4e99-b725-492dd741002a');\n",
              "        const dataTable =\n",
              "          await google.colab.kernel.invokeFunction('convertToInteractive',\n",
              "                                                    [key], {});\n",
              "        if (!dataTable) return;\n",
              "\n",
              "        const docLinkHtml = 'Like what you see? Visit the ' +\n",
              "          '<a target=\"_blank\" href=https://colab.research.google.com/notebooks/data_table.ipynb>data table notebook</a>'\n",
              "          + ' to learn more about interactive tables.';\n",
              "        element.innerHTML = '';\n",
              "        dataTable['output_type'] = 'display_data';\n",
              "        await google.colab.output.renderOutput(dataTable, element);\n",
              "        const docLink = document.createElement('div');\n",
              "        docLink.innerHTML = docLinkHtml;\n",
              "        element.appendChild(docLink);\n",
              "      }\n",
              "    </script>\n",
              "  </div>\n",
              "\n",
              "\n",
              "<div id=\"df-f718fb86-8d2d-4156-a2f5-bec533725ad2\">\n",
              "  <button class=\"colab-df-quickchart\" onclick=\"quickchart('df-f718fb86-8d2d-4156-a2f5-bec533725ad2')\"\n",
              "            title=\"Suggest charts\"\n",
              "            style=\"display:none;\">\n",
              "\n",
              "<svg xmlns=\"http://www.w3.org/2000/svg\" height=\"24px\"viewBox=\"0 0 24 24\"\n",
              "     width=\"24px\">\n",
              "    <g>\n",
              "        <path d=\"M19 3H5c-1.1 0-2 .9-2 2v14c0 1.1.9 2 2 2h14c1.1 0 2-.9 2-2V5c0-1.1-.9-2-2-2zM9 17H7v-7h2v7zm4 0h-2V7h2v10zm4 0h-2v-4h2v4z\"/>\n",
              "    </g>\n",
              "</svg>\n",
              "  </button>\n",
              "\n",
              "<style>\n",
              "  .colab-df-quickchart {\n",
              "      --bg-color: #E8F0FE;\n",
              "      --fill-color: #1967D2;\n",
              "      --hover-bg-color: #E2EBFA;\n",
              "      --hover-fill-color: #174EA6;\n",
              "      --disabled-fill-color: #AAA;\n",
              "      --disabled-bg-color: #DDD;\n",
              "  }\n",
              "\n",
              "  [theme=dark] .colab-df-quickchart {\n",
              "      --bg-color: #3B4455;\n",
              "      --fill-color: #D2E3FC;\n",
              "      --hover-bg-color: #434B5C;\n",
              "      --hover-fill-color: #FFFFFF;\n",
              "      --disabled-bg-color: #3B4455;\n",
              "      --disabled-fill-color: #666;\n",
              "  }\n",
              "\n",
              "  .colab-df-quickchart {\n",
              "    background-color: var(--bg-color);\n",
              "    border: none;\n",
              "    border-radius: 50%;\n",
              "    cursor: pointer;\n",
              "    display: none;\n",
              "    fill: var(--fill-color);\n",
              "    height: 32px;\n",
              "    padding: 0;\n",
              "    width: 32px;\n",
              "  }\n",
              "\n",
              "  .colab-df-quickchart:hover {\n",
              "    background-color: var(--hover-bg-color);\n",
              "    box-shadow: 0 1px 2px rgba(60, 64, 67, 0.3), 0 1px 3px 1px rgba(60, 64, 67, 0.15);\n",
              "    fill: var(--button-hover-fill-color);\n",
              "  }\n",
              "\n",
              "  .colab-df-quickchart-complete:disabled,\n",
              "  .colab-df-quickchart-complete:disabled:hover {\n",
              "    background-color: var(--disabled-bg-color);\n",
              "    fill: var(--disabled-fill-color);\n",
              "    box-shadow: none;\n",
              "  }\n",
              "\n",
              "  .colab-df-spinner {\n",
              "    border: 2px solid var(--fill-color);\n",
              "    border-color: transparent;\n",
              "    border-bottom-color: var(--fill-color);\n",
              "    animation:\n",
              "      spin 1s steps(1) infinite;\n",
              "  }\n",
              "\n",
              "  @keyframes spin {\n",
              "    0% {\n",
              "      border-color: transparent;\n",
              "      border-bottom-color: var(--fill-color);\n",
              "      border-left-color: var(--fill-color);\n",
              "    }\n",
              "    20% {\n",
              "      border-color: transparent;\n",
              "      border-left-color: var(--fill-color);\n",
              "      border-top-color: var(--fill-color);\n",
              "    }\n",
              "    30% {\n",
              "      border-color: transparent;\n",
              "      border-left-color: var(--fill-color);\n",
              "      border-top-color: var(--fill-color);\n",
              "      border-right-color: var(--fill-color);\n",
              "    }\n",
              "    40% {\n",
              "      border-color: transparent;\n",
              "      border-right-color: var(--fill-color);\n",
              "      border-top-color: var(--fill-color);\n",
              "    }\n",
              "    60% {\n",
              "      border-color: transparent;\n",
              "      border-right-color: var(--fill-color);\n",
              "    }\n",
              "    80% {\n",
              "      border-color: transparent;\n",
              "      border-right-color: var(--fill-color);\n",
              "      border-bottom-color: var(--fill-color);\n",
              "    }\n",
              "    90% {\n",
              "      border-color: transparent;\n",
              "      border-bottom-color: var(--fill-color);\n",
              "    }\n",
              "  }\n",
              "</style>\n",
              "\n",
              "  <script>\n",
              "    async function quickchart(key) {\n",
              "      const quickchartButtonEl =\n",
              "        document.querySelector('#' + key + ' button');\n",
              "      quickchartButtonEl.disabled = true;  // To prevent multiple clicks.\n",
              "      quickchartButtonEl.classList.add('colab-df-spinner');\n",
              "      try {\n",
              "        const charts = await google.colab.kernel.invokeFunction(\n",
              "            'suggestCharts', [key], {});\n",
              "      } catch (error) {\n",
              "        console.error('Error during call to suggestCharts:', error);\n",
              "      }\n",
              "      quickchartButtonEl.classList.remove('colab-df-spinner');\n",
              "      quickchartButtonEl.classList.add('colab-df-quickchart-complete');\n",
              "    }\n",
              "    (() => {\n",
              "      let quickchartButtonEl =\n",
              "        document.querySelector('#df-f718fb86-8d2d-4156-a2f5-bec533725ad2 button');\n",
              "      quickchartButtonEl.style.display =\n",
              "        google.colab.kernel.accessAllowed ? 'block' : 'none';\n",
              "    })();\n",
              "  </script>\n",
              "</div>\n",
              "    </div>\n",
              "  </div>\n"
            ],
            "application/vnd.google.colaboratory.intrinsic+json": {
              "type": "dataframe",
              "variable_name": "df",
              "summary": "{\n  \"name\": \"df\",\n  \"rows\": 28623,\n  \"fields\": [\n    {\n      \"column\": \"C\\u00d3DIGO_INSTITUCI\\u00d3N\",\n      \"properties\": {\n        \"dtype\": \"number\",\n        \"std\": 2115,\n        \"min\": 1101,\n        \"max\": 9936,\n        \"num_unique_values\": 357,\n        \"samples\": [\n          3712,\n          1219,\n          4811\n        ],\n        \"semantic_type\": \"\",\n        \"description\": \"\"\n      }\n    },\n    {\n      \"column\": \"SNIES_PROGRAMA\",\n      \"properties\": {\n        \"dtype\": \"number\",\n        \"std\": 45546,\n        \"min\": 1,\n        \"max\": 116494,\n        \"num_unique_values\": 28623,\n        \"samples\": [\n          1561,\n          324,\n          101\n        ],\n        \"semantic_type\": \"\",\n        \"description\": \"\"\n      }\n    },\n    {\n      \"column\": \"NOMBRE_DEL_PROGRAMA\",\n      \"properties\": {\n        \"dtype\": \"category\",\n        \"num_unique_values\": 11912,\n        \"samples\": [\n          \"ESPECIALIZACION EN DIDACTICA DE LA LECTURA Y LA ESCRITURA EN LENGUA CASTELLANA\",\n          \"TECNOLOG\\u00cdA EN CREACI\\u00d3N DE SOLUCIONES DE SOFTWARE Y REDES DE DATOS\",\n          \"ESPECIALIZACI\\u00d3N EN SERVICIOS P\\u00daBLICOS DOMICILIARIOS\"\n        ],\n        \"semantic_type\": \"\",\n        \"description\": \"\"\n      }\n    }\n  ]\n}"
            }
          },
          "metadata": {},
          "execution_count": 6
        }
      ]
    },
    {
      "cell_type": "code",
      "source": [
        "# Obtener el número de filas y columnas\n",
        "num_filas, num_columnas = df.shape\n",
        "\n",
        "# Mostrar el número de filas y columnas\n",
        "print(\"Número de filas:\", num_filas)\n",
        "print(\"Número de columnas:\", num_columnas)\n"
      ],
      "metadata": {
        "colab": {
          "base_uri": "https://localhost:8080/"
        },
        "id": "vutly95Z86fQ",
        "outputId": "77741b35-1aaf-4ae7-aa0a-5899d9b98df6"
      },
      "execution_count": 8,
      "outputs": [
        {
          "output_type": "stream",
          "name": "stdout",
          "text": [
            "Número de filas: 28623\n",
            "Número de columnas: 3\n"
          ]
        }
      ]
    },
    {
      "cell_type": "code",
      "source": [
        "import pandas as pd\n",
        "\n",
        "# Cargar el archivo Excel en un DataFrame\n",
        "df = pd.read_excel('SNIES_PROGRAMAS.xlsx')\n",
        "\n",
        "# Convertir los valores de la columna 'NOMBRE_DEL_PROGRAMA' a mayúsculas\n",
        "df['NOMBRE_DEL_PROGRAMA'] = df['NOMBRE_DEL_PROGRAMA'].str.upper()\n",
        "\n",
        "# Guardar el DataFrame actualizado en un nuevo archivo Excel\n",
        "df.to_excel('SNIES_PROGRAMAS_actualizado.xlsx', index=False)\n",
        "\n",
        "print(\"Se ha actualizado el archivo con éxito.\")\n"
      ],
      "metadata": {
        "colab": {
          "base_uri": "https://localhost:8080/"
        },
        "id": "Q3zTN2I79lEi",
        "outputId": "3ace107f-f9f5-4ea0-cdf2-1174e76472af"
      },
      "execution_count": 9,
      "outputs": [
        {
          "output_type": "stream",
          "name": "stdout",
          "text": [
            "Se ha actualizado el archivo con éxito.\n"
          ]
        }
      ]
    },
    {
      "cell_type": "code",
      "source": [
        "import pandas as pd\n",
        "\n",
        "# Lista de palabras en español (puedes ampliarla según tus necesidades)\n",
        "# Esta lista contiene palabras comunes, pero puede que no cubra todas las posibles palabras en tu dataset\n",
        "# También puedes utilizar un diccionario más completo si lo prefieres\n",
        "palabras_espanol = set([\n",
        "    \"programa\", \"curso\", \"carrera\", \"maestría\", \"doctorado\", \"educación\", \"universidad\",\n",
        "    \"tecnología\", \"informática\", \"ingeniería\", \"matemáticas\", \"ciencias\", \"historia\",\n",
        "    \"literatura\", \"español\", \"biología\", \"química\", \"física\", \"economía\", \"negocios\",\n",
        "    \"administración\", \"psicología\", \"medicina\", \"derecho\", \"arte\", \"diseño\", \"música\",\n",
        "    \"filosofía\", \"sociedad\", \"cultura\", \"idioma\", \"comunicación\", \"lingüística\", \"salud\",\n",
        "    \"deporte\", \"turismo\", \"ambiental\", \"sostenibilidad\", \"agricultura\", \"ganadería\",\n",
        "    \"forestal\", \"industria\", \"alimentación\", \"teatro\", \"danza\", \"cine\", \"televisión\",\n",
        "    \"medios\", \"religión\", \"filantropía\", \"voluntariado\", \"política\", \"gobierno\", \"sociedad\"\n",
        "])\n",
        "\n",
        "# Cargar el archivo Excel en un DataFrame\n",
        "df = pd.read_excel('SNIES_PROGRAMAS.xlsx')\n",
        "\n",
        "# Crear una función para verificar y corregir errores ortográficos\n",
        "def corregir_ortografia(texto):\n",
        "    palabras = texto.split()\n",
        "    corregido = []\n",
        "    for palabra in palabras:\n",
        "        palabra = palabra.lower()\n",
        "        if palabra not in palabras_espanol:\n",
        "            sugerencias = [palabra]\n",
        "            # Buscar sugerencias de corrección ortográfica\n",
        "            for sugerencia in palabras_espanol:\n",
        "                if sugerencia.startswith(palabra[0]):\n",
        "                    sugerencias.append(sugerencia)\n",
        "            # Elegir la sugerencia más cercana\n",
        "            sugerencia = min(sugerencias, key=lambda x: len(x) - len(palabra))\n",
        "            corregido.append(sugerencia)\n",
        "        else:\n",
        "            corregido.append(palabra)\n",
        "    return ' '.join(corregido)\n",
        "\n",
        "# Aplicar la función para corregir errores ortográficos en la columna 'NOMBRE_DEL_PROGRAMA'\n",
        "df['NOMBRE_DEL_PROGRAMA'] = df['NOMBRE_DEL_PROGRAMA'].apply(corregir_ortografia)\n",
        "\n",
        "# Guardar el DataFrame actualizado en un nuevo archivo Excel\n",
        "df.to_excel('SNIES_PROGRAMAS_corregido.xlsx', index=False)\n",
        "\n",
        "print(\"Se han corregido los errores ortográficos y se ha guardado el archivo actualizado como SNIES_PROGRAMAS_corregido.xlsx.\")\n",
        "\n"
      ],
      "metadata": {
        "colab": {
          "base_uri": "https://localhost:8080/"
        },
        "id": "-QPxCAFG-mAz",
        "outputId": "8931e474-c7c1-4207-e8b8-a7b6cf324892"
      },
      "execution_count": 10,
      "outputs": [
        {
          "output_type": "stream",
          "name": "stdout",
          "text": [
            "Se han corregido los errores ortográficos y se ha guardado el archivo actualizado como SNIES_PROGRAMAS_corregido.xlsx.\n"
          ]
        }
      ]
    },
    {
      "cell_type": "code",
      "source": [
        "# Guardar el DataFrame actualizado en un nuevo archivo Excel\n",
        "df.to_excel('SNIES_PROGRAMAS_corregido.xlsx', index=False)\n",
        "\n",
        "print(\"Se han corregido los errores ortográficos y se ha guardado el archivo actualizado como SNIES_PROGRAMAS_corregido.xlsx.\")\n"
      ],
      "metadata": {
        "colab": {
          "base_uri": "https://localhost:8080/"
        },
        "id": "3AF3KnWT-yI7",
        "outputId": "3abe70b9-1a57-4f27-9dba-e302736b4b60"
      },
      "execution_count": 11,
      "outputs": [
        {
          "output_type": "stream",
          "name": "stdout",
          "text": [
            "Se han corregido los errores ortográficos y se ha guardado el archivo actualizado como SNIES_PROGRAMAS_corregido.xlsx.\n"
          ]
        }
      ]
    },
    {
      "cell_type": "code",
      "source": [
        "!pip install unidecode\n"
      ],
      "metadata": {
        "colab": {
          "base_uri": "https://localhost:8080/"
        },
        "id": "WlALTw0vXt90",
        "outputId": "f86893dd-cdd0-456e-cec4-a0d9c0e68aa8"
      },
      "execution_count": 18,
      "outputs": [
        {
          "output_type": "stream",
          "name": "stdout",
          "text": [
            "Collecting unidecode\n",
            "  Downloading Unidecode-1.3.8-py3-none-any.whl (235 kB)\n",
            "\u001b[?25l     \u001b[90m━━━━━━━━━━━━━━━━━━━━━━━━━━━━━━━━━━━━━━━━\u001b[0m \u001b[32m0.0/235.5 kB\u001b[0m \u001b[31m?\u001b[0m eta \u001b[36m-:--:--\u001b[0m\r\u001b[2K     \u001b[91m━━━━━━━━━━━━━━━━━━━━━━━━━━━━━━━━━━\u001b[0m\u001b[91m╸\u001b[0m\u001b[90m━━━━━\u001b[0m \u001b[32m204.8/235.5 kB\u001b[0m \u001b[31m6.0 MB/s\u001b[0m eta \u001b[36m0:00:01\u001b[0m\r\u001b[2K     \u001b[90m━━━━━━━━━━━━━━━━━━━━━━━━━━━━━━━━━━━━━━━━\u001b[0m \u001b[32m235.5/235.5 kB\u001b[0m \u001b[31m5.1 MB/s\u001b[0m eta \u001b[36m0:00:00\u001b[0m\n",
            "\u001b[?25hInstalling collected packages: unidecode\n",
            "Successfully installed unidecode-1.3.8\n"
          ]
        }
      ]
    },
    {
      "cell_type": "code",
      "source": [
        "from unicodedata import normalize\n"
      ],
      "metadata": {
        "id": "jXeuAfm2YPAs"
      },
      "execution_count": 21,
      "outputs": []
    },
    {
      "cell_type": "code",
      "source": [
        "\n",
        "import pandas as pd\n",
        "from unicodedata import normalize\n",
        "\n",
        "# Cargar el archivo Excel en un DataFrame\n",
        "df = pd.read_excel('SNIES_PROGRAMAS.xlsx')\n",
        "\n",
        "# Crear una función para quitar tildes\n",
        "def quitar_tildes(texto):\n",
        "    return ''.join((c for c in normalize('NFD', texto) if normalize('NFC', c) in \"abcdefghijklmnopqrstuvwxyzABCDEFGHIJKLMNOPQRSTUVWXYZ \"))\n",
        "\n",
        "# Aplicar la función para quitar tildes en la columna 'NOMBRE_DEL_PROGRAMA'\n",
        "df['NOMBRE_DEL_PROGRAMA'] = df['NOMBRE_DEL_PROGRAMA'].apply(quitar_tildes)\n",
        "\n",
        "# Guardar el DataFrame actualizado en un nuevo archivo Excel\n",
        "df.to_excel('SNIES_PROGRAMAS_sin_tildes.xlsx', index=False)\n",
        "\n",
        "print(\"Se han quitado las tildes y se ha guardado el archivo actualizado como SNIES_PROGRAMAS_sin_tildes.xlsx.\")\n"
      ],
      "metadata": {
        "colab": {
          "base_uri": "https://localhost:8080/"
        },
        "id": "YSuXHAcGXNSr",
        "outputId": "6ea1d72c-67ad-4172-efd1-cde3ed853446"
      },
      "execution_count": 22,
      "outputs": [
        {
          "output_type": "stream",
          "name": "stdout",
          "text": [
            "Se han quitado las tildes y se ha guardado el archivo actualizado como SNIES_PROGRAMAS_sin_tildes.xlsx.\n"
          ]
        }
      ]
    },
    {
      "cell_type": "code",
      "source": [
        "import pandas as pd\n",
        "from unicodedata import normalize\n",
        "\n",
        "# Cargar el archivo Excel en un DataFrame\n",
        "df = pd.read_excel('SNIES_PROGRAMAS.xlsx')\n",
        "\n",
        "# Crear una función para quitar tildes\n",
        "def quitar_tildes(texto):\n",
        "    return ''.join((c for c in normalize('NFD', texto) if normalize('NFC', c) in \"abcdefghijklmnopqrstuvwxyzABCDEFGHIJKLMNOPQRSTUVWXYZ \"))\n",
        "\n",
        "# Aplicar la función para quitar tildes en la columna 'NOMBRE_DEL_PROGRAMA'\n",
        "df['NOMBRE_DEL_PROGRAMA'] = df['NOMBRE_DEL_PROGRAMA'].apply(quitar_tildes)\n",
        "\n",
        "# Convertir todos los datos en la columna 'NOMBRE_DEL_PROGRAMA' a mayúsculas\n",
        "df['NOMBRE_DEL_PROGRAMA'] = df['NOMBRE_DEL_PROGRAMA'].str.upper()\n",
        "\n",
        "# Guardar el DataFrame actualizado en un nuevo archivo Excel\n",
        "df.to_excel('SNIES_PROGRAMAS_sin_tildes_mayusculas.xlsx', index=False)\n",
        "\n",
        "print(\"Se han quitado las tildes y convertido los datos a mayúsculas, y se ha guardado el archivo actualizado como SNIES_PROGRAMAS_sin_tildes_mayusculas.xlsx.\")\n"
      ],
      "metadata": {
        "colab": {
          "base_uri": "https://localhost:8080/"
        },
        "id": "fZtnKdDsayaK",
        "outputId": "1ac2018c-fc6d-40c8-dcad-5b1a85108a60"
      },
      "execution_count": 23,
      "outputs": [
        {
          "output_type": "stream",
          "name": "stdout",
          "text": [
            "Se han quitado las tildes y convertido los datos a mayúsculas, y se ha guardado el archivo actualizado como SNIES_PROGRAMAS_sin_tildes_mayusculas.xlsx.\n"
          ]
        }
      ]
    },
    {
      "cell_type": "code",
      "source": [
        "import pandas as pd\n",
        "from unicodedata import normalize\n",
        "\n",
        "# Cargar el archivo Excel en un DataFrame\n",
        "df = pd.read_excel('SNIES_PROGRAMAS.xlsx')\n",
        "\n",
        "# Lista de palabras en español\n",
        "palabras_espanol = set([\n",
        "    # Aquí puedes agregar tus propias palabras o utilizar una lista más completa\n",
        "    \"programa\", \"curso\", \"carrera\", \"maestría\", \"doctorado\", \"educación\", \"universidad\",\n",
        "    \"tecnología\", \"informática\", \"ingeniería\", \"matemáticas\", \"ciencias\", \"historia\",\n",
        "    \"literatura\", \"español\", \"biología\", \"química\", \"física\", \"economía\", \"negocios\",\n",
        "    \"administración\", \"psicología\", \"medicina\", \"derecho\", \"arte\", \"diseño\", \"música\",\n",
        "    \"filosofía\", \"sociedad\", \"cultura\", \"idioma\", \"comunicación\", \"lingüística\", \"salud\",\n",
        "    \"deporte\", \"turismo\", \"ambiental\", \"sostenibilidad\", \"agricultura\", \"ganadería\",\n",
        "    \"forestal\", \"industria\", \"alimentación\", \"teatro\", \"danza\", \"cine\", \"televisión\",\n",
        "    \"medios\", \"religión\", \"filantropía\", \"voluntariado\", \"política\", \"gobierno\", \"sociedad\"\n",
        "])\n",
        "\n",
        "# Crear una función para mantener la coherencia ortográfica en español\n",
        "def mantener_coherencia_ortografica(texto):\n",
        "    palabras = texto.split()\n",
        "    texto_corregido = []\n",
        "    for palabra in palabras:\n",
        "        # Convertir la palabra a minúsculas y quitar tildes\n",
        "        palabra = ''.join((c for c in normalize('NFD', palabra.lower()) if normalize('NFC', c) in \"abcdefghijklmnopqrstuvwxyz \"))\n",
        "        # Verificar si la palabra está en la lista de palabras en español\n",
        "        if palabra in palabras_espanol:\n",
        "            texto_corregido.append(palabra)\n",
        "    return ' '.join(texto_corregido)\n",
        "\n",
        "# Aplicar la función para mantener la coherencia ortográfica en español en la columna 'NOMBRE_DEL_PROGRAMA'\n",
        "df['NOMBRE_DEL_PROGRAMA_con_tildes'] = df['NOMBRE_DEL_PROGRAMA'].apply(mantener_coherencia_ortografica)\n",
        "\n",
        "# Guardar el DataFrame actualizado en un nuevo archivo Excel\n",
        "df.to_excel('SNIES_PROGRAMAS_con_tildes.xlsx', index=False)\n",
        "\n",
        "print(\"Se ha mantenido la coherencia ortográfica en español y se ha guardado el archivo actualizado como SNIES_PROGRAMAS_con_tildes.xlsx.\")\n"
      ],
      "metadata": {
        "colab": {
          "base_uri": "https://localhost:8080/"
        },
        "id": "RnLBgmwmdsMF",
        "outputId": "28139fd1-e6fd-4d6f-ce15-87de1de00392"
      },
      "execution_count": 26,
      "outputs": [
        {
          "output_type": "stream",
          "name": "stdout",
          "text": [
            "Se ha mantenido la coherencia ortográfica en español y se ha guardado el archivo actualizado como SNIES_PROGRAMAS_con_tildes.xlsx.\n"
          ]
        }
      ]
    }
  ]
}